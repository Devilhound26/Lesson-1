{
 "cells": [
  {
   "attachments": {},
   "cell_type": "markdown",
   "metadata": {},
   "source": [
    "# Lesson 1-2: Introduction to Git\n",
    "\n",
    "In this lesson, we will cover the basics of using Git, a distributed version control system. Git is a tool that allows multiple people to work on the same code base without overwriting each other's changes. It also keeps a history of all changes made to the code, making it easy to revert back to a previous version if necessary."
   ]
  },
  {
   "attachments": {},
   "cell_type": "markdown",
   "metadata": {},
   "source": [
    "## Installing Git\n",
    "\n",
    "Before we can start using Git, we need to install it. The installation process varies depending on your operating system. Here are the instructions for the most common ones:\n",
    "\n",
    "- **Windows**: Download the Git for Windows installer from the [official Git website](https://git-scm.com/download/win) and run it.\n",
    "- **Mac**: If you have installed Xcode, Git is already installed. If not, you can install it using Homebrew with the command `brew install git`.\n",
    "- **Linux**: Use your distribution's package manager to install Git. For example, on Ubuntu or Debian, you can use the command `sudo apt-get install git`."
   ]
  },
  {
   "attachments": {},
   "cell_type": "markdown",
   "metadata": {},
   "source": [
    "## Basic Git Commands\n",
    "\n",
    "Here are some basic Git commands you will use frequently:\n",
    "\n",
    "- `git init`: Initializes a new Git repository.\n",
    "- `git clone <url>`: Creates a copy of a remote repository on your local machine.\n",
    "- `git add <file>`: Stages a file for commit.\n",
    "- `git commit -m \"<message>\"`: Commits the staged changes with a descriptive message.\n",
    "- `git push`: Pushes the committed changes to the remote repository.\n",
    "- `git pull`: Fetches the latest changes from the remote repository and merges them into your local repository.\n",
    "\n",
    "These commands are wrapped in vscode providing a GUI interface to interact with git. You can find the git tab on the left side of the screen. The icon is 3 circles with a line connecting them. If you hover over the icon, it will say \"Source Control\". Clicking on this icon will open the git tab. To stage a file, click the \"+\" icon next to the file name. To commit the staged changes, click the checkmark icon. To push the committed changes to the remote repository, Click the recylce icon labeled \"Sync\". To pull the latest changes from the remote repository, you can use the Sync icon as well.\n",
    "\n",
    "\n",
    "\n",
    "## Create a GitHub Account\n",
    "In a web browser, navigate to [GitHub](https://github.com/signup?ref_cta=Sign+up&ref_loc=header+logged+out&ref_page=%2F&source=header-home)\n",
    "and create an account. You will need to verify your email address before you can create a repository. **Use your Stockton Email**\n",
    "\n",
    "## Sign up for the Github Student Developer Pack\n",
    "Navigate to [GitHub Student Developer Pack](https://education.github.com/pack) and sign up for the student developer pack. This will give you access to a lot of free software and services including github co-pilot.\n",
    "\n",
    "\n",
    "\n",
    "## Clone the CIST2110 repository\n",
    "Press the Git tab on the left side of the VS-Code screen. Select the 3 dots and then select \"Clone Repository\". Enter the URL of the repository you want to clone. For this class, the URL is\n",
    "```\n",
    "https://github.com/walshg3/CIST2110-001-Programming-In-Python.git\n",
    "```\n",
    "Select the folder you want to clone the repository into. This will create a folder with the same name as the repository. This repository contains all of the code for the class. You will be able to pull the latest changes from the repository as the semester progresses.\n",
    "It should be known that this repository should be considered read-only. You will not be able to push changes to this repository. \n",
    "\n",
    "There will be a second repository that you will be able to push changes to. This repository will be created in the next section.\n",
    "\n",
    "## Fork the CIST2110-Labs repository\n",
    "Navigate to [CIST2110-Labs](https://github.com/walshg3/CIST2110-001-Programming-In-Python-Labs.git) and click the \"Fork\" button in the top right corner. This will create a copy of the repository in your GitHub account. You will be able to push changes to this repository.\n",
    "\n",
    "## Clone the CIST2110-Labs repository\n",
    "Press the Git tab on the left side of the VS-Code screen. Select the 3 dots and then select \"Clone Repository\". Enter the URL of the repository you just forked. Make sure the repo being cloned has your username in the URL. Select the folder you want to clone the repository into. This will create a folder with the same name as the repository.\n",
    "\n",
    "The Labs repository contains all of the code for the labs. You will be able to push changes to this repository. As the semester progresses, New labs will be added to the repository. To avoid issues in the future we will be adding a remote repository to the labs repository. \n",
    "\n",
    "## Add a remote repository\n",
    "Press the Git tab on the left side of the VS-Code screen. Select the 3 dots and then select \"Remote -> Add Remote\". Enter the URL of the original repository.\n",
    "```\n",
    "https://github.com/walshg3/CIST2110-001-Programming-In-Python-Labs.git\n",
    "```\n",
    "Type in a name for the remote repository. I used \"original\".\n",
    "\n",
    "## Pull changes from the original repository\n",
    "Press the Git tab on the left side of the VS-Code screen. Select the 3 dots and then select \"Pull from -> original\". This will pull the latest changes from the original repository. You will need to do this every time a new lab is added to the original repository. You will need to commit any changes you have made to your local repository before you can pull changes from the original repository.\n",
    "\n",
    "## Update your global git config username and email\n",
    "Launch a terminal and enter the following commands. Replace the name and email with your name and email.\n",
    "```\n",
    "git config --global user.name \"John Doe\"\n",
    "git config --global user.email \"doej1@go.stockton.edu\"\n",
    "```\n",
    "\n",
    "## Push changes to your repository\n",
    "Once you have made changes to your local repository, you can push them to your remote repository. Press the \"+\" icon next to the file name to stage the file. Enter a message about your commit. Press the checkmark icon to commit the staged changes. Press the \"Sync\" icon to push the committed changes to your remote repository.\n",
    "\n",
    "\n",
    "\n",
    "\n",
    "\n"
   ]
  },
  {
   "attachments": {},
   "cell_type": "markdown",
   "metadata": {},
   "source": [
    "## Conclusion\n",
    "\n",
    "This is just a brief introduction to Git. There are many more commands and features to explore. For a more in-depth guide, check out the [official Git documentation](https://git-scm.com/doc)."
   ]
  }
 ],
 "metadata": {
  "kernelspec": {
   "display_name": "Python 3",
   "language": "python",
   "name": "python3"
  },
  "language_info": {
   "codemirror_mode": {
    "name": "ipython",
    "version": 3
   },
   "file_extension": ".py",
   "mimetype": "text/x-python",
   "name": "python",
   "nbconvert_exporter": "python",
   "pygments_lexer": "ipython3",
   "version": "3.8.5"
  }
 },
 "nbformat": 4,
 "nbformat_minor": 4
}
